{
 "cells": [
  {
   "cell_type": "code",
   "execution_count": 2,
   "metadata": {},
   "outputs": [],
   "source": [
    "from Source.load_data import *\n",
    "from Hyperparameters.params_TNG_CV import *\n",
    "from Source.constants import *\n",
    "\n",
    "use_model, learning_rate, weight_decay, n_layers, k_nn, n_epochs, training, simsuite, simset, n_sims = params\n",
    "simpath = simpathroot + simsuite + \"/\"+simset+\"_\"\n",
    "path = simpath + str(2)+\"/fof_subhalo_tab_033.hdf5\"\n",
    "tab, HaloMass, HaloPos, HaloVel, halolist = general_tab(path)"
   ]
  },
  {
   "cell_type": "code",
   "execution_count": 26,
   "metadata": {},
   "outputs": [
    {
     "data": {
      "text/plain": [
       "(6, 8)"
      ]
     },
     "execution_count": 26,
     "metadata": {},
     "output_type": "execute_result"
    }
   ],
   "source": [
    "\n",
    "ind = 5\n",
    "\n",
    "tab_halo = tab[tab[:,0]==ind][:,1:] #1upwards because we don't need the hosthalo id from original tab\n",
    "tab_halo.shape"
   ]
  },
  {
   "cell_type": "code",
   "execution_count": 27,
   "metadata": {},
   "outputs": [],
   "source": [
    "# Consider only halos with at least one satellite galaxy (besides the central)\n",
    "if tab_halo.shape[0]>1:\n",
    "\n",
    "    # Otherwise, write the positions and velocities as the relative position and velocity to the host halo\n",
    "    tab_halo[:,0:3] -= HaloPos[ind]\n",
    "    tab_halo[:,-3:] -= HaloVel[ind]\n",
    "\n",
    "    # Correct periodic boundary effects\n",
    "    tab_halo[:,:3] = correct_boundary(tab_halo[:,:3])\n",
    "\n",
    "    # If use velocity, compute the betrag of the velocities vector and create a new table with these values\n",
    "    if use_vel:\n",
    "        subhalovel = np.log10(np.sqrt(np.sum(tab_halo[:,-3:]**2., 1)))  # use this way in case you normalize velocities\n",
    "        newtab = np.column_stack((tab_halo[:,:-3], subhalovel))\n",
    "    else:\n",
    "        newtab = tab_halo[:,:-3]"
   ]
  },
  {
   "cell_type": "code",
   "execution_count": 44,
   "metadata": {},
   "outputs": [],
   "source": [
    "size = tab_halo.shape[0] \n",
    "A = torch.ones(size,size)-torch.eye(size,size)\n",
    "edge_index = A.nonzero().t().contiguous()"
   ]
  },
  {
   "cell_type": "code",
   "execution_count": 48,
   "metadata": {},
   "outputs": [],
   "source": [
    "# Take as global quantities of the halo the number of subhalos and the total stellar mass\n",
    "u = np.zeros((1,2), dtype=np.float32)\n",
    "u[0,0] = tab_halo.shape[0]  # number of subhalos\n",
    "if not only_positions:\n",
    "    u[0,1] = np.log10(np.sum(10.**tab_halo[:,3]))\n",
    "\n",
    "# Create the graph of the halo\n",
    "# x: features (includes positions), pos: positions, u: global quantity\n",
    "graph = Data(x=torch.tensor(newtab, dtype=torch.float32), pos=torch.tensor(tab_halo[:,:3], dtype=torch.float32), y=torch.tensor(np.log10(HaloMass[ind]), dtype=torch.float32), u=torch.tensor(u, dtype=torch.float))"
   ]
  },
  {
   "cell_type": "code",
   "execution_count": null,
   "metadata": {},
   "outputs": [],
   "source": []
  }
 ],
 "metadata": {
  "kernelspec": {
   "display_name": "Python 3.10.6 64-bit",
   "language": "python",
   "name": "python3"
  },
  "language_info": {
   "codemirror_mode": {
    "name": "ipython",
    "version": 3
   },
   "file_extension": ".py",
   "mimetype": "text/x-python",
   "name": "python",
   "nbconvert_exporter": "python",
   "pygments_lexer": "ipython3",
   "version": "3.10.7"
  },
  "orig_nbformat": 4,
  "vscode": {
   "interpreter": {
    "hash": "e7370f93d1d0cde622a1f8e1c04877d8463912d04d973331ad4851f04de6915a"
   }
  }
 },
 "nbformat": 4,
 "nbformat_minor": 2
}
